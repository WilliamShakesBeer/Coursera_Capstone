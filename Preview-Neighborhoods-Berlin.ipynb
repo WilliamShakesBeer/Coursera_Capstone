{
 "cells": [
  {
   "cell_type": "markdown",
   "metadata": {},
   "source": [
    "<h1 align=center><font size = 5>Segmenting and Clustering Neighborhoods in Berlin <br> Is Berlin still a divided City?</font></h1>"
   ]
  },
  {
   "cell_type": "markdown",
   "metadata": {},
   "source": [
    "## Introduction\n",
    "\n",
    "Berlin, the capital of Germany, celebrates it's 30th anniversary of reunification this year. After almost thirty years of division into a capitalistic western and a socialistic eastern part, the quarters and neighborhoods of Berlin had developed quite differently. In the years after the reunification, the convergence of the eastern and western parts of the city towards a more homogenous, united city, was one of the important political goals.\n",
    "\n",
    "Therefore, now is a good moment to analyze the similarities and differences of Berlin's boroughs and neighborhoods. There are many approaches to do so. While it is relatively easy to compare figures such as the average income per person or the unemployment rate per borough (and in these terms, the differences between the eastern and western parts of the city are still obivious), it is a more difficult task to compare the \"look and feel\" of the boroughs and neighborhoods today.\n",
    "\n",
    "My approach to do this will be by using the Foursquare API to find out about the most common venue categories in the respective boroughs and neighborhoods. This analysis, supported by the official latitude / longitude data of the Berlin districts, is supposed to lead into a k-means-clustering of the neighborhoods. Is there something like a \"typical group\" of western and eastern districts? Or will we see a mixed picture of similar boroughs and neighborhoods on both sides of the former Berlin wall? Finally, the answer to this question is going to be illustrated on a Folium map of Berlin."
   ]
  },
  {
   "cell_type": "code",
   "execution_count": null,
   "metadata": {},
   "outputs": [],
   "source": []
  }
 ],
 "metadata": {
  "kernelspec": {
   "display_name": "Python 3",
   "language": "python",
   "name": "python3"
  },
  "language_info": {
   "codemirror_mode": {
    "name": "ipython",
    "version": 3
   },
   "file_extension": ".py",
   "mimetype": "text/x-python",
   "name": "python",
   "nbconvert_exporter": "python",
   "pygments_lexer": "ipython3",
   "version": "3.7.4"
  },
  "widgets": {
   "state": {},
   "version": "1.1.2"
  }
 },
 "nbformat": 4,
 "nbformat_minor": 4
}
